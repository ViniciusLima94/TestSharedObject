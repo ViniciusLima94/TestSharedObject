{
 "cells": [
  {
   "cell_type": "code",
   "execution_count": 5,
   "metadata": {},
   "outputs": [],
   "source": [
    "import ctypes\n",
    "import numpy             as np\n",
    "import matplotlib.pyplot as plt\n",
    "from   tqdm              import tqdm"
   ]
  },
  {
   "cell_type": "markdown",
   "metadata": {},
   "source": [
    "### Importing C function"
   ]
  },
  {
   "cell_type": "code",
   "execution_count": 6,
   "metadata": {},
   "outputs": [],
   "source": [
    "_mi = ctypes.CDLL('./libmi.so')"
   ]
  },
  {
   "cell_type": "code",
   "execution_count": 7,
   "metadata": {},
   "outputs": [],
   "source": [
    "_mi.st_mi.argtypes = (ctypes.POINTER(ctypes.c_int), ctypes.POINTER(ctypes.c_int), ctypes.c_int)\n",
    "_mi.st_mi.restype  = ctypes.c_float"
   ]
  },
  {
   "cell_type": "markdown",
   "metadata": {},
   "source": [
    "### Defining wrapper for C function in python"
   ]
  },
  {
   "cell_type": "code",
   "execution_count": 8,
   "metadata": {},
   "outputs": [],
   "source": [
    "def st_mi(x, y):\n",
    "    global _mi\n",
    "    n_bins = len(x)\n",
    "    array_type = ctypes.c_int * n_bins\n",
    "    MI = _mi.st_mi(array_type(*x), array_type(*y), ctypes.c_int(n_bins))\n",
    "    return float(MI)"
   ]
  },
  {
   "cell_type": "markdown",
   "metadata": {},
   "source": [
    "### Defining numpy function to compute MI"
   ]
  },
  {
   "cell_type": "code",
   "execution_count": 9,
   "metadata": {},
   "outputs": [],
   "source": [
    "def py_mi(x,y):\n",
    "    n = len(x)\n",
    "    px  = np.sum(x) / n\n",
    "    py  = np.sum(y) / n\n",
    "    pxy = np.unique(np.array([x,y]).T, return_counts=True, axis=0)[1] / n\n",
    "    \n",
    "    Hx  = -px*np.log2(px) - (1-px)*np.log2(1-px)\n",
    "    Hy  = -py*np.log2(py) - (1-py)*np.log2(1-py)\n",
    "    Hxy = np.sum(-pxy*np.log2(pxy))\n",
    "    \n",
    "    return Hx + Hy - Hxy"
   ]
  },
  {
   "cell_type": "markdown",
   "metadata": {},
   "source": [
    "### Method to generate dummy data"
   ]
  },
  {
   "cell_type": "code",
   "execution_count": 10,
   "metadata": {},
   "outputs": [],
   "source": [
    "def multivariate_normal_bin(size, rho):\n",
    "    cov  = [[1,rho],[rho,1]]\n",
    "    x, y = np.random.multivariate_normal([0,0], cov, size).T\n",
    "    return (x>0.5).astype(int), (y>0.5).astype(int)    "
   ]
  },
  {
   "cell_type": "markdown",
   "metadata": {},
   "source": [
    "### Check if values match"
   ]
  },
  {
   "cell_type": "code",
   "execution_count": 11,
   "metadata": {},
   "outputs": [],
   "source": [
    "rhos = np.linspace(0, 1, 10)"
   ]
  },
  {
   "cell_type": "code",
   "execution_count": 12,
   "metadata": {},
   "outputs": [],
   "source": [
    "mi_c = []\n",
    "for rho in rhos:\n",
    "    x,y = multivariate_normal_bin(1000, rho)\n",
    "    mi_c.append( st_mi(x,y) )"
   ]
  },
  {
   "cell_type": "code",
   "execution_count": 13,
   "metadata": {},
   "outputs": [],
   "source": [
    "mi_py = []\n",
    "for rho in rhos:\n",
    "    x,y = multivariate_normal_bin(1000, rho)\n",
    "    mi_py.append( py_mi(x,y) )"
   ]
  },
  {
   "cell_type": "code",
   "execution_count": 15,
   "metadata": {},
   "outputs": [
    {
     "data": {
      "text/plain": [
       "<matplotlib.legend.Legend at 0x7f49bc721518>"
      ]
     },
     "execution_count": 15,
     "metadata": {},
     "output_type": "execute_result"
    },
    {
     "data": {
      "image/png": "[encoded data removed]",
      "text/plain": [
       "<Figure size 432x288 with 1 Axes>"
      ]
     },
     "metadata": {
      "needs_background": "light"
     },
     "output_type": "display_data"
    }
   ],
   "source": [
    "plt.plot(rhos, mi_c, label = 'C')\n",
    "plt.plot(rhos, mi_py, label = 'Numpy')\n",
    "plt.ylabel('MI [bits]')\n",
    "plt.xlabel(r'$\\rho$')\n",
    "plt.legend()"
   ]
  },
  {
   "cell_type": "markdown",
   "metadata": {},
   "source": [
    "### Comparing execution time as a funtion of the time-series length"
   ]
  },
  {
   "cell_type": "code",
   "execution_count": 47,
   "metadata": {},
   "outputs": [],
   "source": [
    "T = np.arange(1000, 10000000, 500000, dtype = int)"
   ]
  },
  {
   "cell_type": "code",
   "execution_count": null,
   "metadata": {},
   "outputs": [],
   "source": [
    "t_c  = np.zeros([2,len(T)])\n",
    "t_py = np.zeros([2,len(T)])\n",
    "for i in tqdm(range(len(T)) ):\n",
    "    x, y = multivariate_normal_bin(T[i], 0)\n",
    "    t1 = %timeit -o py_mi(x,y)\n",
    "    t2 = %timeit -o st_mi(x,y)\n",
    "    t_py[0,i] = t1.average\n",
    "    t_py[1,i] = t1.stdev\n",
    "    t_c[0,i]  = t2.average\n",
    "    t_c[1,i]  = t2.stdev"
   ]
  },
  {
   "cell_type": "code",
   "execution_count": 55,
   "metadata": {},
   "outputs": [
    {
     "data": {
      "text/plain": [
       "<matplotlib.legend.Legend at 0x7fc17c7078d0>"
      ]
     },
     "execution_count": 55,
     "metadata": {},
     "output_type": "execute_result"
    },
    {
     "data": {
      "image/png": "[encoded data removed]",
      "text/plain": [
       "<Figure size 432x288 with 1 Axes>"
      ]
     },
     "metadata": {
      "needs_background": "light"
     },
     "output_type": "display_data"
    }
   ],
   "source": [
    "plt.plot(T, t_c[0], 'sb', label = 'C')\n",
    "plt.fill_between(T, t_c[0]-t_c[1], t_c[0]+t_c[1], color = 'b', alpha = .2)\n",
    "plt.plot(T, t_py[0], 'sr', label = 'Numpy')\n",
    "plt.fill_between(T, t_py[0]-t_py[1], t_py[0]+t_py[1], color = 'r', alpha = .2)\n",
    "plt.ylabel('Execution time [s]')\n",
    "plt.xlabel('Array length')\n",
    "plt.legend()"
   ]
  }
 ],
 "metadata": {
  "kernelspec": {
   "display_name": "Python 3",
   "language": "python",
   "name": "python3"
  }
 },
 "nbformat": 4,
 "nbformat_minor": 4
}
