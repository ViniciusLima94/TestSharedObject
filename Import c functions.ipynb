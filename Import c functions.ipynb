{
 "cells": [
  {
   "cell_type": "code",
   "execution_count": 18,
   "metadata": {},
   "outputs": [],
   "source": [
    "import ctypes\n",
    "import numpy             as np\n",
    "import matplotlib.pyplot as plt\n",
    "from   tqdm              import tqdm"
   ]
  },
  {
   "cell_type": "markdown",
   "metadata": {},
   "source": [
    "### Importing C function"
   ]
  },
  {
   "cell_type": "code",
   "execution_count": 19,
   "metadata": {},
   "outputs": [],
   "source": [
    "_mi = ctypes.CDLL('./libmi.so')"
   ]
  },
  {
   "cell_type": "code",
   "execution_count": 20,
   "metadata": {},
   "outputs": [],
   "source": [
    "_mi.st_mi.argtypes = (ctypes.POINTER(ctypes.c_int), ctypes.POINTER(ctypes.c_int), ctypes.c_int)\n",
    "_mi.st_mi.restype  = ctypes.c_float"
   ]
  },
  {
   "cell_type": "markdown",
   "metadata": {},
   "source": [
    "### Defining wrapper for C function in python"
   ]
  },
  {
   "cell_type": "code",
   "execution_count": 21,
   "metadata": {},
   "outputs": [],
   "source": [
    "def st_mi(x, y):\n",
    "    global _mi\n",
    "    n_bins = len(x)\n",
    "    array_type = ctypes.c_int * n_bins\n",
    "    MI = _mi.st_mi(array_type(*x), array_type(*y), ctypes.c_int(n_bins))\n",
    "    return float(MI)"
   ]
  },
  {
   "cell_type": "markdown",
   "metadata": {},
   "source": [
    "### Defining numpy function to compute MI"
   ]
  },
  {
   "cell_type": "code",
   "execution_count": 22,
   "metadata": {},
   "outputs": [],
   "source": [
    "def py_mi(x,y):\n",
    "    n = len(x)\n",
    "    px  = np.unique(x, return_counts=True)[1] / n\n",
    "    py  = np.unique(y, return_counts=True)[1] / n\n",
    "    pxy = np.unique(np.array([x,y]).T, return_counts=True, axis=0)[1] / n\n",
    "    \n",
    "    Hx  = np.sum(-px*np.log2(px))\n",
    "    Hy  = np.sum(-py*np.log2(py))\n",
    "    Hxy = np.sum(-pxy*np.log2(pxy))\n",
    "    \n",
    "    return Hx + Hy - Hxy"
   ]
  },
  {
   "cell_type": "markdown",
   "metadata": {},
   "source": [
    "### Method to generate dummy data"
   ]
  },
  {
   "cell_type": "code",
   "execution_count": 23,
   "metadata": {},
   "outputs": [],
   "source": [
    "def multivariate_normal_bin(size, rho):\n",
    "    cov  = [[1,rho],[rho,1]]\n",
    "    x, y = np.random.multivariate_normal([0,0], cov, size).T\n",
    "    return (x>0.5).astype(int), (y>0.5).astype(int)    "
   ]
  },
  {
   "cell_type": "markdown",
   "metadata": {},
   "source": [
    "### Check if values match"
   ]
  },
  {
   "cell_type": "code",
   "execution_count": 24,
   "metadata": {},
   "outputs": [],
   "source": [
    "rhos = np.linspace(0, 1, 10)"
   ]
  },
  {
   "cell_type": "code",
   "execution_count": 25,
   "metadata": {},
   "outputs": [],
   "source": [
    "mi_c = []\n",
    "for rho in rhos:\n",
    "    x,y = multivariate_normal_bin(1000, rho)\n",
    "    mi_c.append( st_mi(x,y) )"
   ]
  },
  {
   "cell_type": "code",
   "execution_count": 26,
   "metadata": {},
   "outputs": [],
   "source": [
    "mi_py = []\n",
    "for rho in rhos:\n",
    "    x,y = multivariate_normal_bin(1000, rho)\n",
    "    mi_py.append( py_mi(x,y) )"
   ]
  },
  {
   "cell_type": "code",
   "execution_count": 27,
   "metadata": {},
   "outputs": [
    {
     "data": {
      "text/plain": [
       "<matplotlib.legend.Legend at 0x7f07a3483d60>"
      ]
     },
     "execution_count": 27,
     "metadata": {},
     "output_type": "execute_result"
    },
    {
     "data": {
      "image/png": "[encoded data removed]",
      "text/plain": [
       "<Figure size 432x288 with 1 Axes>"
      ]
     },
     "metadata": {
      "needs_background": "light"
     },
     "output_type": "display_data"
    }
   ],
   "source": [
    "plt.plot(rhos, mi_c, label = 'C')\n",
    "plt.plot(rhos, mi_py, label = 'Numpy')\n",
    "plt.ylabel('MI [bits]')\n",
    "plt.xlabel(r'$\\rho$')\n",
    "plt.legend()"
   ]
  },
  {
   "cell_type": "markdown",
   "metadata": {},
   "source": [
    "### Comparing execution time as a funtion of the time-series length"
   ]
  },
  {
   "cell_type": "code",
   "execution_count": 28,
   "metadata": {},
   "outputs": [],
   "source": [
    "T = np.arange(1000, 1000000, 100000, dtype = int)"
   ]
  },
  {
   "cell_type": "code",
   "execution_count": 30,
   "metadata": {},
   "outputs": [
    {
     "name": "stderr",
     "output_type": "stream",
     "text": [
      "\r",
      "  0%|          | 0/10 [00:00<?, ?it/s]"
     ]
    },
    {
     "name": "stdout",
     "output_type": "stream",
     "text": [
      "652 µs ± 26.9 µs per loop (mean ± std. dev. of 7 runs, 1000 loops each)\n"
     ]
    },
    {
     "name": "stderr",
     "output_type": "stream",
     "text": [
      "\r",
      " 10%|█         | 1/10 [00:10<01:34, 10.46s/it]"
     ]
    },
    {
     "name": "stdout",
     "output_type": "stream",
     "text": [
      "624 µs ± 15.7 µs per loop (mean ± std. dev. of 7 runs, 1000 loops each)\n",
      "82.2 ms ± 3.13 ms per loop (mean ± std. dev. of 7 runs, 10 loops each)\n"
     ]
    },
    {
     "name": "stderr",
     "output_type": "stream",
     "text": [
      "\r",
      " 20%|██        | 2/10 [00:22<01:28, 11.01s/it]"
     ]
    },
    {
     "name": "stdout",
     "output_type": "stream",
     "text": [
      "69.2 ms ± 1.7 ms per loop (mean ± std. dev. of 7 runs, 10 loops each)\n",
      "168 ms ± 1.75 ms per loop (mean ± std. dev. of 7 runs, 1 loop each)\n"
     ]
    },
    {
     "name": "stderr",
     "output_type": "stream",
     "text": [
      "\r",
      " 30%|███       | 3/10 [00:36<01:21, 11.71s/it]"
     ]
    },
    {
     "name": "stdout",
     "output_type": "stream",
     "text": [
      "149 ms ± 10.1 ms per loop (mean ± std. dev. of 7 runs, 10 loops each)\n",
      "282 ms ± 28.3 ms per loop (mean ± std. dev. of 7 runs, 1 loop each)\n"
     ]
    },
    {
     "name": "stderr",
     "output_type": "stream",
     "text": [
      "\r",
      " 40%|████      | 4/10 [00:40<00:56,  9.43s/it]"
     ]
    },
    {
     "name": "stdout",
     "output_type": "stream",
     "text": [
      "214 ms ± 11 ms per loop (mean ± std. dev. of 7 runs, 1 loop each)\n",
      "364 ms ± 17.3 ms per loop (mean ± std. dev. of 7 runs, 1 loop each)\n"
     ]
    },
    {
     "name": "stderr",
     "output_type": "stream",
     "text": [
      "\r",
      " 50%|█████     | 5/10 [00:45<00:40,  8.19s/it]"
     ]
    },
    {
     "name": "stdout",
     "output_type": "stream",
     "text": [
      "294 ms ± 25.3 ms per loop (mean ± std. dev. of 7 runs, 1 loop each)\n",
      "508 ms ± 39.7 ms per loop (mean ± std. dev. of 7 runs, 1 loop each)\n"
     ]
    },
    {
     "name": "stderr",
     "output_type": "stream",
     "text": [
      "\r",
      " 60%|██████    | 6/10 [00:52<00:31,  7.80s/it]"
     ]
    },
    {
     "name": "stdout",
     "output_type": "stream",
     "text": [
      "345 ms ± 6.46 ms per loop (mean ± std. dev. of 7 runs, 1 loop each)\n",
      "569 ms ± 10.5 ms per loop (mean ± std. dev. of 7 runs, 1 loop each)\n"
     ]
    },
    {
     "name": "stderr",
     "output_type": "stream",
     "text": [
      "\r",
      " 70%|███████   | 7/10 [01:00<00:23,  7.88s/it]"
     ]
    },
    {
     "name": "stdout",
     "output_type": "stream",
     "text": [
      "437 ms ± 32.9 ms per loop (mean ± std. dev. of 7 runs, 1 loop each)\n",
      "678 ms ± 32.1 ms per loop (mean ± std. dev. of 7 runs, 1 loop each)\n"
     ]
    },
    {
     "name": "stderr",
     "output_type": "stream",
     "text": [
      "\r",
      " 80%|████████  | 8/10 [01:09<00:16,  8.34s/it]"
     ]
    },
    {
     "name": "stdout",
     "output_type": "stream",
     "text": [
      "492 ms ± 9.45 ms per loop (mean ± std. dev. of 7 runs, 1 loop each)\n",
      "814 ms ± 15 ms per loop (mean ± std. dev. of 7 runs, 1 loop each)\n"
     ]
    },
    {
     "name": "stderr",
     "output_type": "stream",
     "text": [
      "\r",
      " 90%|█████████ | 9/10 [01:20<00:09,  9.12s/it]"
     ]
    },
    {
     "name": "stdout",
     "output_type": "stream",
     "text": [
      "542 ms ± 4.44 ms per loop (mean ± std. dev. of 7 runs, 1 loop each)\n",
      "932 ms ± 116 ms per loop (mean ± std. dev. of 7 runs, 1 loop each)\n"
     ]
    },
    {
     "name": "stderr",
     "output_type": "stream",
     "text": [
      "100%|██████████| 10/10 [01:33<00:00,  9.34s/it]"
     ]
    },
    {
     "name": "stdout",
     "output_type": "stream",
     "text": [
      "635 ms ± 64.4 ms per loop (mean ± std. dev. of 7 runs, 1 loop each)\n"
     ]
    },
    {
     "name": "stderr",
     "output_type": "stream",
     "text": [
      "\n"
     ]
    }
   ],
   "source": [
    "t_c  = np.zeros([2,len(T)])\n",
    "t_py = np.zeros([2,len(T)])\n",
    "for i in tqdm(range(len(T)) ):\n",
    "    x, y = multivariate_normal_bin(T[i], 0)\n",
    "    t1 = %timeit -o py_mi(x,y)\n",
    "    t2 = %timeit -o st_mi(x,y)\n",
    "    t_py[0,i] = t1.average\n",
    "    t_py[1,i] = t1.stdev\n",
    "    t_c[0,i]  = t2.average\n",
    "    t_c[1,i]  = t2.stdev"
   ]
  },
  {
   "cell_type": "code",
   "execution_count": 32,
   "metadata": {},
   "outputs": [
    {
     "name": "stderr",
     "output_type": "stream",
     "text": [
      "<ipython-input-32-4a3836fad448>:2: MatplotlibDeprecationWarning: The parameter where must have the same size as x in fill_between(). This will become an error in future versions of Matplotlib.\n",
      "  plt.fill_between(T, t_c[0]-t_c[1], t_c[0]+t_c[1], 'b', alpha = .2)\n",
      "<ipython-input-32-4a3836fad448>:4: MatplotlibDeprecationWarning: The parameter where must have the same size as x in fill_between(). This will become an error in future versions of Matplotlib.\n",
      "  plt.fill_between(T, t_py[0]-t_py[1], t_py[0]+t_py[1], 'r', alpha = .2)\n"
     ]
    },
    {
     "data": {
      "text/plain": [
       "<matplotlib.legend.Legend at 0x7f07a2b380a0>"
      ]
     },
     "execution_count": 32,
     "metadata": {},
     "output_type": "execute_result"
    },
    {
     "data": {
      "image/png": "[encoded data removed]",
      "text/plain": [
       "<Figure size 432x288 with 1 Axes>"
      ]
     },
     "metadata": {
      "needs_background": "light"
     },
     "output_type": "display_data"
    }
   ],
   "source": [
    "plt.plot(T, t_c[0], 'sb', label = 'C')\n",
    "plt.fill_between(T, t_c[0]-t_c[1], t_c[0]+t_c[1], 'b', alpha = .2)\n",
    "plt.plot(T, t_py[0], 'sr', label = 'Numpy')\n",
    "plt.fill_between(T, t_py[0]-t_py[1], t_py[0]+t_py[1], 'r', alpha = .2)\n",
    "plt.ylabel('Execution time [ms]')\n",
    "plt.xlabel('Array length')\n",
    "plt.legend()"
   ]
  }
 ],
 "metadata": {
  "kernelspec": {
   "display_name": "Python 3",
   "language": "python",
   "name": "python3"
  },
  "language_info": {
   "codemirror_mode": {
    "name": "ipython",
    "version": 3
   },
   "file_extension": ".py",
   "mimetype": "text/x-python",
   "name": "python",
   "nbconvert_exporter": "python",
   "pygments_lexer": "ipython3",
   "version": "3.8.3"
  }
 },
 "nbformat": 4,
 "nbformat_minor": 4
}
